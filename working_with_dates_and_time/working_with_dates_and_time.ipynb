{
  "cells": [
    {
      "cell_type": "markdown",
      "metadata": {
        "id": "view-in-github",
        "colab_type": "text"
      },
      "source": [
        "<a href=\"https://colab.research.google.com/github/Sikandarh11/Feature-Engineering/blob/main/working_with_dates_and_time.ipynb\" target=\"_parent\"><img src=\"https://colab.research.google.com/assets/colab-badge.svg\" alt=\"Open In Colab\"/></a>"
      ]
    },
    {
      "cell_type": "code",
      "execution_count": null,
      "metadata": {
        "id": "hjlrRKkPjmAi"
      },
      "outputs": [],
      "source": [
        "import numpy as np\n",
        "import pandas as pd"
      ]
    },
    {
      "cell_type": "code",
      "execution_count": null,
      "metadata": {
        "id": "_KCTQ1ZLjmAo"
      },
      "outputs": [],
      "source": [
        "date = pd.read_csv('orders.csv')\n",
        "time = pd.read_csv('messages.csv')"
      ]
    },
    {
      "cell_type": "code",
      "execution_count": null,
      "metadata": {
        "id": "_5sDbbKljmAr",
        "outputId": "b9c485ae-ff40-4524-b9df-c7128d1977a9"
      },
      "outputs": [
        {
          "data": {
            "text/html": [
              "<div>\n",
              "<style scoped>\n",
              "    .dataframe tbody tr th:only-of-type {\n",
              "        vertical-align: middle;\n",
              "    }\n",
              "\n",
              "    .dataframe tbody tr th {\n",
              "        vertical-align: top;\n",
              "    }\n",
              "\n",
              "    .dataframe thead th {\n",
              "        text-align: right;\n",
              "    }\n",
              "</style>\n",
              "<table border=\"1\" class=\"dataframe\">\n",
              "  <thead>\n",
              "    <tr style=\"text-align: right;\">\n",
              "      <th></th>\n",
              "      <th>date</th>\n",
              "      <th>product_id</th>\n",
              "      <th>city_id</th>\n",
              "      <th>orders</th>\n",
              "    </tr>\n",
              "  </thead>\n",
              "  <tbody>\n",
              "    <tr>\n",
              "      <th>0</th>\n",
              "      <td>2019-12-10</td>\n",
              "      <td>5628</td>\n",
              "      <td>25</td>\n",
              "      <td>3</td>\n",
              "    </tr>\n",
              "    <tr>\n",
              "      <th>1</th>\n",
              "      <td>2018-08-15</td>\n",
              "      <td>3646</td>\n",
              "      <td>14</td>\n",
              "      <td>157</td>\n",
              "    </tr>\n",
              "    <tr>\n",
              "      <th>2</th>\n",
              "      <td>2018-10-23</td>\n",
              "      <td>1859</td>\n",
              "      <td>25</td>\n",
              "      <td>1</td>\n",
              "    </tr>\n",
              "    <tr>\n",
              "      <th>3</th>\n",
              "      <td>2019-08-17</td>\n",
              "      <td>7292</td>\n",
              "      <td>25</td>\n",
              "      <td>1</td>\n",
              "    </tr>\n",
              "    <tr>\n",
              "      <th>4</th>\n",
              "      <td>2019-01-06</td>\n",
              "      <td>4344</td>\n",
              "      <td>25</td>\n",
              "      <td>3</td>\n",
              "    </tr>\n",
              "  </tbody>\n",
              "</table>\n",
              "</div>"
            ],
            "text/plain": [
              "         date  product_id  city_id  orders\n",
              "0  2019-12-10        5628       25       3\n",
              "1  2018-08-15        3646       14     157\n",
              "2  2018-10-23        1859       25       1\n",
              "3  2019-08-17        7292       25       1\n",
              "4  2019-01-06        4344       25       3"
            ]
          },
          "execution_count": 46,
          "metadata": {},
          "output_type": "execute_result"
        }
      ],
      "source": [
        "date.head()"
      ]
    },
    {
      "cell_type": "code",
      "execution_count": null,
      "metadata": {
        "id": "BOXbPtc6jmAv",
        "outputId": "eb90e33d-25b9-4f82-98da-950ec0b8741d"
      },
      "outputs": [
        {
          "data": {
            "text/html": [
              "<div>\n",
              "<style scoped>\n",
              "    .dataframe tbody tr th:only-of-type {\n",
              "        vertical-align: middle;\n",
              "    }\n",
              "\n",
              "    .dataframe tbody tr th {\n",
              "        vertical-align: top;\n",
              "    }\n",
              "\n",
              "    .dataframe thead th {\n",
              "        text-align: right;\n",
              "    }\n",
              "</style>\n",
              "<table border=\"1\" class=\"dataframe\">\n",
              "  <thead>\n",
              "    <tr style=\"text-align: right;\">\n",
              "      <th></th>\n",
              "      <th>date</th>\n",
              "      <th>msg</th>\n",
              "    </tr>\n",
              "  </thead>\n",
              "  <tbody>\n",
              "    <tr>\n",
              "      <th>0</th>\n",
              "      <td>2013-12-15 00:50:00</td>\n",
              "      <td>ищу на сегодня мужика 37</td>\n",
              "    </tr>\n",
              "    <tr>\n",
              "      <th>1</th>\n",
              "      <td>2014-04-29 23:40:00</td>\n",
              "      <td>ПАРЕНЬ БИ ИЩЕТ ДРУГА СЕЙЧАС!! СМС ММС 0955532826</td>\n",
              "    </tr>\n",
              "    <tr>\n",
              "      <th>2</th>\n",
              "      <td>2012-12-30 00:21:00</td>\n",
              "      <td>Днепр.м 43 позн.с д/ж *.о  067.16.34.576</td>\n",
              "    </tr>\n",
              "    <tr>\n",
              "      <th>3</th>\n",
              "      <td>2014-11-28 00:31:00</td>\n",
              "      <td>КИЕВ ИЩУ Д/Ж ДО 45 МНЕ СЕЙЧАС СКУЧНО 093 629 9...</td>\n",
              "    </tr>\n",
              "    <tr>\n",
              "      <th>4</th>\n",
              "      <td>2013-10-26 23:11:00</td>\n",
              "      <td>Зая я тебя никогда не обижу  люблю тебя!)  Даше</td>\n",
              "    </tr>\n",
              "  </tbody>\n",
              "</table>\n",
              "</div>"
            ],
            "text/plain": [
              "                  date                                                msg\n",
              "0  2013-12-15 00:50:00                           ищу на сегодня мужика 37\n",
              "1  2014-04-29 23:40:00   ПАРЕНЬ БИ ИЩЕТ ДРУГА СЕЙЧАС!! СМС ММС 0955532826\n",
              "2  2012-12-30 00:21:00           Днепр.м 43 позн.с д/ж *.о  067.16.34.576\n",
              "3  2014-11-28 00:31:00  КИЕВ ИЩУ Д/Ж ДО 45 МНЕ СЕЙЧАС СКУЧНО 093 629 9...\n",
              "4  2013-10-26 23:11:00    Зая я тебя никогда не обижу  люблю тебя!)  Даше"
            ]
          },
          "execution_count": 47,
          "metadata": {},
          "output_type": "execute_result"
        }
      ],
      "source": [
        "time.head()"
      ]
    },
    {
      "cell_type": "code",
      "execution_count": null,
      "metadata": {
        "id": "MhIdAtbmjmAx",
        "outputId": "908b6a9f-0707-470e-850e-bc114cda8e30"
      },
      "outputs": [
        {
          "name": "stdout",
          "output_type": "stream",
          "text": [
            "<class 'pandas.core.frame.DataFrame'>\n",
            "RangeIndex: 1000 entries, 0 to 999\n",
            "Data columns (total 4 columns):\n",
            " #   Column      Non-Null Count  Dtype \n",
            "---  ------      --------------  ----- \n",
            " 0   date        1000 non-null   object\n",
            " 1   product_id  1000 non-null   int64 \n",
            " 2   city_id     1000 non-null   int64 \n",
            " 3   orders      1000 non-null   int64 \n",
            "dtypes: int64(3), object(1)\n",
            "memory usage: 31.4+ KB\n"
          ]
        }
      ],
      "source": [
        "date.info()"
      ]
    },
    {
      "cell_type": "code",
      "execution_count": null,
      "metadata": {
        "id": "mO8F9rknjmA0",
        "outputId": "180f0767-ef06-4b51-ca23-487d4befb2a2"
      },
      "outputs": [
        {
          "name": "stdout",
          "output_type": "stream",
          "text": [
            "<class 'pandas.core.frame.DataFrame'>\n",
            "RangeIndex: 1000 entries, 0 to 999\n",
            "Data columns (total 2 columns):\n",
            " #   Column  Non-Null Count  Dtype \n",
            "---  ------  --------------  ----- \n",
            " 0   date    1000 non-null   object\n",
            " 1   msg     1000 non-null   object\n",
            "dtypes: object(2)\n",
            "memory usage: 15.8+ KB\n"
          ]
        }
      ],
      "source": [
        "time.info()"
      ]
    },
    {
      "cell_type": "markdown",
      "metadata": {
        "id": "KAIJjKt6jmA2"
      },
      "source": [
        "# Working with Dates"
      ]
    },
    {
      "cell_type": "code",
      "execution_count": null,
      "metadata": {
        "id": "Y6jduI3UjmA8"
      },
      "outputs": [],
      "source": [
        "# Converting to datetime datatype\n",
        "date['date'] = pd.to_datetime(date['date'])"
      ]
    },
    {
      "cell_type": "code",
      "execution_count": null,
      "metadata": {
        "id": "wq2oUVoHjmA_",
        "outputId": "d6e3d339-d1d5-43be-cc63-539a1cd2a702"
      },
      "outputs": [
        {
          "name": "stdout",
          "output_type": "stream",
          "text": [
            "<class 'pandas.core.frame.DataFrame'>\n",
            "RangeIndex: 1000 entries, 0 to 999\n",
            "Data columns (total 4 columns):\n",
            " #   Column      Non-Null Count  Dtype         \n",
            "---  ------      --------------  -----         \n",
            " 0   date        1000 non-null   datetime64[ns]\n",
            " 1   product_id  1000 non-null   int64         \n",
            " 2   city_id     1000 non-null   int64         \n",
            " 3   orders      1000 non-null   int64         \n",
            "dtypes: datetime64[ns](1), int64(3)\n",
            "memory usage: 31.4 KB\n"
          ]
        }
      ],
      "source": [
        "date.info()"
      ]
    },
    {
      "cell_type": "markdown",
      "metadata": {
        "id": "Ia6FiPI7jmBB"
      },
      "source": [
        "#### 1. Extract year"
      ]
    },
    {
      "cell_type": "code",
      "execution_count": null,
      "metadata": {
        "id": "2E94KOk8jmBC",
        "outputId": "634fe89b-a9c2-4100-8dac-415f7e55e8d0"
      },
      "outputs": [
        {
          "data": {
            "text/html": [
              "<div>\n",
              "<style scoped>\n",
              "    .dataframe tbody tr th:only-of-type {\n",
              "        vertical-align: middle;\n",
              "    }\n",
              "\n",
              "    .dataframe tbody tr th {\n",
              "        vertical-align: top;\n",
              "    }\n",
              "\n",
              "    .dataframe thead th {\n",
              "        text-align: right;\n",
              "    }\n",
              "</style>\n",
              "<table border=\"1\" class=\"dataframe\">\n",
              "  <thead>\n",
              "    <tr style=\"text-align: right;\">\n",
              "      <th></th>\n",
              "      <th>date</th>\n",
              "      <th>product_id</th>\n",
              "      <th>city_id</th>\n",
              "      <th>orders</th>\n",
              "      <th>date_year</th>\n",
              "    </tr>\n",
              "  </thead>\n",
              "  <tbody>\n",
              "    <tr>\n",
              "      <th>202</th>\n",
              "      <td>2018-11-21</td>\n",
              "      <td>192</td>\n",
              "      <td>23</td>\n",
              "      <td>1</td>\n",
              "      <td>2018</td>\n",
              "    </tr>\n",
              "    <tr>\n",
              "      <th>999</th>\n",
              "      <td>2019-10-15</td>\n",
              "      <td>6371</td>\n",
              "      <td>7</td>\n",
              "      <td>22</td>\n",
              "      <td>2019</td>\n",
              "    </tr>\n",
              "    <tr>\n",
              "      <th>871</th>\n",
              "      <td>2018-12-26</td>\n",
              "      <td>7378</td>\n",
              "      <td>21</td>\n",
              "      <td>8</td>\n",
              "      <td>2018</td>\n",
              "    </tr>\n",
              "    <tr>\n",
              "      <th>841</th>\n",
              "      <td>2019-11-17</td>\n",
              "      <td>5250</td>\n",
              "      <td>3</td>\n",
              "      <td>13</td>\n",
              "      <td>2019</td>\n",
              "    </tr>\n",
              "    <tr>\n",
              "      <th>235</th>\n",
              "      <td>2018-10-05</td>\n",
              "      <td>1288</td>\n",
              "      <td>20</td>\n",
              "      <td>22</td>\n",
              "      <td>2018</td>\n",
              "    </tr>\n",
              "  </tbody>\n",
              "</table>\n",
              "</div>"
            ],
            "text/plain": [
              "          date  product_id  city_id  orders  date_year\n",
              "202 2018-11-21         192       23       1       2018\n",
              "999 2019-10-15        6371        7      22       2019\n",
              "871 2018-12-26        7378       21       8       2018\n",
              "841 2019-11-17        5250        3      13       2019\n",
              "235 2018-10-05        1288       20      22       2018"
            ]
          },
          "execution_count": 54,
          "metadata": {},
          "output_type": "execute_result"
        }
      ],
      "source": [
        "date['date_year'] = date['date'].dt.year\n",
        "\n",
        "date.sample(5)"
      ]
    },
    {
      "cell_type": "markdown",
      "metadata": {
        "id": "X2339HgLjmBE"
      },
      "source": [
        "#### 2. Extract Month"
      ]
    },
    {
      "cell_type": "code",
      "execution_count": null,
      "metadata": {
        "id": "MzQmIFmNjmBF",
        "outputId": "42a1c092-4cbe-475b-d763-af149574bc66"
      },
      "outputs": [
        {
          "data": {
            "text/html": [
              "<div>\n",
              "<style scoped>\n",
              "    .dataframe tbody tr th:only-of-type {\n",
              "        vertical-align: middle;\n",
              "    }\n",
              "\n",
              "    .dataframe tbody tr th {\n",
              "        vertical-align: top;\n",
              "    }\n",
              "\n",
              "    .dataframe thead th {\n",
              "        text-align: right;\n",
              "    }\n",
              "</style>\n",
              "<table border=\"1\" class=\"dataframe\">\n",
              "  <thead>\n",
              "    <tr style=\"text-align: right;\">\n",
              "      <th></th>\n",
              "      <th>date</th>\n",
              "      <th>product_id</th>\n",
              "      <th>city_id</th>\n",
              "      <th>orders</th>\n",
              "      <th>date_year</th>\n",
              "      <th>date_month_no</th>\n",
              "    </tr>\n",
              "  </thead>\n",
              "  <tbody>\n",
              "    <tr>\n",
              "      <th>0</th>\n",
              "      <td>2019-12-10</td>\n",
              "      <td>5628</td>\n",
              "      <td>25</td>\n",
              "      <td>3</td>\n",
              "      <td>2019</td>\n",
              "      <td>12</td>\n",
              "    </tr>\n",
              "    <tr>\n",
              "      <th>1</th>\n",
              "      <td>2018-08-15</td>\n",
              "      <td>3646</td>\n",
              "      <td>14</td>\n",
              "      <td>157</td>\n",
              "      <td>2018</td>\n",
              "      <td>8</td>\n",
              "    </tr>\n",
              "    <tr>\n",
              "      <th>2</th>\n",
              "      <td>2018-10-23</td>\n",
              "      <td>1859</td>\n",
              "      <td>25</td>\n",
              "      <td>1</td>\n",
              "      <td>2018</td>\n",
              "      <td>10</td>\n",
              "    </tr>\n",
              "    <tr>\n",
              "      <th>3</th>\n",
              "      <td>2019-08-17</td>\n",
              "      <td>7292</td>\n",
              "      <td>25</td>\n",
              "      <td>1</td>\n",
              "      <td>2019</td>\n",
              "      <td>8</td>\n",
              "    </tr>\n",
              "    <tr>\n",
              "      <th>4</th>\n",
              "      <td>2019-01-06</td>\n",
              "      <td>4344</td>\n",
              "      <td>25</td>\n",
              "      <td>3</td>\n",
              "      <td>2019</td>\n",
              "      <td>1</td>\n",
              "    </tr>\n",
              "  </tbody>\n",
              "</table>\n",
              "</div>"
            ],
            "text/plain": [
              "        date  product_id  city_id  orders  date_year  date_month_no\n",
              "0 2019-12-10        5628       25       3       2019             12\n",
              "1 2018-08-15        3646       14     157       2018              8\n",
              "2 2018-10-23        1859       25       1       2018             10\n",
              "3 2019-08-17        7292       25       1       2019              8\n",
              "4 2019-01-06        4344       25       3       2019              1"
            ]
          },
          "execution_count": 55,
          "metadata": {},
          "output_type": "execute_result"
        }
      ],
      "source": [
        "date['date_month_no'] = date['date'].dt.month\n",
        "\n",
        "date.head()"
      ]
    },
    {
      "cell_type": "code",
      "execution_count": null,
      "metadata": {
        "id": "dMuLbPgSjmBH",
        "outputId": "2af3defd-a99b-4743-fc5e-3537741cdb6d"
      },
      "outputs": [
        {
          "data": {
            "text/html": [
              "<div>\n",
              "<style scoped>\n",
              "    .dataframe tbody tr th:only-of-type {\n",
              "        vertical-align: middle;\n",
              "    }\n",
              "\n",
              "    .dataframe tbody tr th {\n",
              "        vertical-align: top;\n",
              "    }\n",
              "\n",
              "    .dataframe thead th {\n",
              "        text-align: right;\n",
              "    }\n",
              "</style>\n",
              "<table border=\"1\" class=\"dataframe\">\n",
              "  <thead>\n",
              "    <tr style=\"text-align: right;\">\n",
              "      <th></th>\n",
              "      <th>date</th>\n",
              "      <th>product_id</th>\n",
              "      <th>city_id</th>\n",
              "      <th>orders</th>\n",
              "      <th>date_year</th>\n",
              "      <th>date_month_no</th>\n",
              "      <th>date_month_name</th>\n",
              "    </tr>\n",
              "  </thead>\n",
              "  <tbody>\n",
              "    <tr>\n",
              "      <th>0</th>\n",
              "      <td>2019-12-10</td>\n",
              "      <td>5628</td>\n",
              "      <td>25</td>\n",
              "      <td>3</td>\n",
              "      <td>2019</td>\n",
              "      <td>12</td>\n",
              "      <td>December</td>\n",
              "    </tr>\n",
              "    <tr>\n",
              "      <th>1</th>\n",
              "      <td>2018-08-15</td>\n",
              "      <td>3646</td>\n",
              "      <td>14</td>\n",
              "      <td>157</td>\n",
              "      <td>2018</td>\n",
              "      <td>8</td>\n",
              "      <td>August</td>\n",
              "    </tr>\n",
              "    <tr>\n",
              "      <th>2</th>\n",
              "      <td>2018-10-23</td>\n",
              "      <td>1859</td>\n",
              "      <td>25</td>\n",
              "      <td>1</td>\n",
              "      <td>2018</td>\n",
              "      <td>10</td>\n",
              "      <td>October</td>\n",
              "    </tr>\n",
              "    <tr>\n",
              "      <th>3</th>\n",
              "      <td>2019-08-17</td>\n",
              "      <td>7292</td>\n",
              "      <td>25</td>\n",
              "      <td>1</td>\n",
              "      <td>2019</td>\n",
              "      <td>8</td>\n",
              "      <td>August</td>\n",
              "    </tr>\n",
              "    <tr>\n",
              "      <th>4</th>\n",
              "      <td>2019-01-06</td>\n",
              "      <td>4344</td>\n",
              "      <td>25</td>\n",
              "      <td>3</td>\n",
              "      <td>2019</td>\n",
              "      <td>1</td>\n",
              "      <td>January</td>\n",
              "    </tr>\n",
              "  </tbody>\n",
              "</table>\n",
              "</div>"
            ],
            "text/plain": [
              "        date  product_id  city_id  orders  date_year  date_month_no  \\\n",
              "0 2019-12-10        5628       25       3       2019             12   \n",
              "1 2018-08-15        3646       14     157       2018              8   \n",
              "2 2018-10-23        1859       25       1       2018             10   \n",
              "3 2019-08-17        7292       25       1       2019              8   \n",
              "4 2019-01-06        4344       25       3       2019              1   \n",
              "\n",
              "  date_month_name  \n",
              "0        December  \n",
              "1          August  \n",
              "2         October  \n",
              "3          August  \n",
              "4         January  "
            ]
          },
          "execution_count": 56,
          "metadata": {},
          "output_type": "execute_result"
        }
      ],
      "source": [
        "date['date_month_name'] = date['date'].dt.month_name()\n",
        "\n",
        "date.head()"
      ]
    },
    {
      "cell_type": "markdown",
      "metadata": {
        "id": "LkTCQGCVjmBJ"
      },
      "source": [
        "#### Extract Days"
      ]
    },
    {
      "cell_type": "code",
      "execution_count": null,
      "metadata": {
        "id": "Msme5sHrjmBK",
        "outputId": "6e571ff2-3b7e-403f-c1d4-3c283299b403"
      },
      "outputs": [
        {
          "data": {
            "text/html": [
              "<div>\n",
              "<style scoped>\n",
              "    .dataframe tbody tr th:only-of-type {\n",
              "        vertical-align: middle;\n",
              "    }\n",
              "\n",
              "    .dataframe tbody tr th {\n",
              "        vertical-align: top;\n",
              "    }\n",
              "\n",
              "    .dataframe thead th {\n",
              "        text-align: right;\n",
              "    }\n",
              "</style>\n",
              "<table border=\"1\" class=\"dataframe\">\n",
              "  <thead>\n",
              "    <tr style=\"text-align: right;\">\n",
              "      <th></th>\n",
              "      <th>date</th>\n",
              "      <th>product_id</th>\n",
              "      <th>city_id</th>\n",
              "      <th>orders</th>\n",
              "      <th>date_year</th>\n",
              "      <th>date_month_no</th>\n",
              "      <th>date_month_name</th>\n",
              "      <th>date_day</th>\n",
              "    </tr>\n",
              "  </thead>\n",
              "  <tbody>\n",
              "    <tr>\n",
              "      <th>0</th>\n",
              "      <td>2019-12-10</td>\n",
              "      <td>5628</td>\n",
              "      <td>25</td>\n",
              "      <td>3</td>\n",
              "      <td>2019</td>\n",
              "      <td>12</td>\n",
              "      <td>December</td>\n",
              "      <td>10</td>\n",
              "    </tr>\n",
              "    <tr>\n",
              "      <th>1</th>\n",
              "      <td>2018-08-15</td>\n",
              "      <td>3646</td>\n",
              "      <td>14</td>\n",
              "      <td>157</td>\n",
              "      <td>2018</td>\n",
              "      <td>8</td>\n",
              "      <td>August</td>\n",
              "      <td>15</td>\n",
              "    </tr>\n",
              "    <tr>\n",
              "      <th>2</th>\n",
              "      <td>2018-10-23</td>\n",
              "      <td>1859</td>\n",
              "      <td>25</td>\n",
              "      <td>1</td>\n",
              "      <td>2018</td>\n",
              "      <td>10</td>\n",
              "      <td>October</td>\n",
              "      <td>23</td>\n",
              "    </tr>\n",
              "    <tr>\n",
              "      <th>3</th>\n",
              "      <td>2019-08-17</td>\n",
              "      <td>7292</td>\n",
              "      <td>25</td>\n",
              "      <td>1</td>\n",
              "      <td>2019</td>\n",
              "      <td>8</td>\n",
              "      <td>August</td>\n",
              "      <td>17</td>\n",
              "    </tr>\n",
              "    <tr>\n",
              "      <th>4</th>\n",
              "      <td>2019-01-06</td>\n",
              "      <td>4344</td>\n",
              "      <td>25</td>\n",
              "      <td>3</td>\n",
              "      <td>2019</td>\n",
              "      <td>1</td>\n",
              "      <td>January</td>\n",
              "      <td>6</td>\n",
              "    </tr>\n",
              "  </tbody>\n",
              "</table>\n",
              "</div>"
            ],
            "text/plain": [
              "        date  product_id  city_id  orders  date_year  date_month_no  \\\n",
              "0 2019-12-10        5628       25       3       2019             12   \n",
              "1 2018-08-15        3646       14     157       2018              8   \n",
              "2 2018-10-23        1859       25       1       2018             10   \n",
              "3 2019-08-17        7292       25       1       2019              8   \n",
              "4 2019-01-06        4344       25       3       2019              1   \n",
              "\n",
              "  date_month_name  date_day  \n",
              "0        December        10  \n",
              "1          August        15  \n",
              "2         October        23  \n",
              "3          August        17  \n",
              "4         January         6  "
            ]
          },
          "execution_count": 57,
          "metadata": {},
          "output_type": "execute_result"
        }
      ],
      "source": [
        "date['date_day'] = date['date'].dt.day\n",
        "\n",
        "date.head()"
      ]
    },
    {
      "cell_type": "code",
      "execution_count": null,
      "metadata": {
        "id": "nbWswPAxjmBM",
        "outputId": "f631a3d2-235b-4cbb-daa8-023811c0bd76"
      },
      "outputs": [
        {
          "data": {
            "text/html": [
              "<div>\n",
              "<style scoped>\n",
              "    .dataframe tbody tr th:only-of-type {\n",
              "        vertical-align: middle;\n",
              "    }\n",
              "\n",
              "    .dataframe tbody tr th {\n",
              "        vertical-align: top;\n",
              "    }\n",
              "\n",
              "    .dataframe thead th {\n",
              "        text-align: right;\n",
              "    }\n",
              "</style>\n",
              "<table border=\"1\" class=\"dataframe\">\n",
              "  <thead>\n",
              "    <tr style=\"text-align: right;\">\n",
              "      <th></th>\n",
              "      <th>date</th>\n",
              "      <th>product_id</th>\n",
              "      <th>city_id</th>\n",
              "      <th>orders</th>\n",
              "      <th>date_year</th>\n",
              "      <th>date_month_no</th>\n",
              "      <th>date_month_name</th>\n",
              "      <th>date_day</th>\n",
              "      <th>date_dow</th>\n",
              "    </tr>\n",
              "  </thead>\n",
              "  <tbody>\n",
              "    <tr>\n",
              "      <th>0</th>\n",
              "      <td>2019-12-10</td>\n",
              "      <td>5628</td>\n",
              "      <td>25</td>\n",
              "      <td>3</td>\n",
              "      <td>2019</td>\n",
              "      <td>12</td>\n",
              "      <td>December</td>\n",
              "      <td>10</td>\n",
              "      <td>1</td>\n",
              "    </tr>\n",
              "    <tr>\n",
              "      <th>1</th>\n",
              "      <td>2018-08-15</td>\n",
              "      <td>3646</td>\n",
              "      <td>14</td>\n",
              "      <td>157</td>\n",
              "      <td>2018</td>\n",
              "      <td>8</td>\n",
              "      <td>August</td>\n",
              "      <td>15</td>\n",
              "      <td>2</td>\n",
              "    </tr>\n",
              "    <tr>\n",
              "      <th>2</th>\n",
              "      <td>2018-10-23</td>\n",
              "      <td>1859</td>\n",
              "      <td>25</td>\n",
              "      <td>1</td>\n",
              "      <td>2018</td>\n",
              "      <td>10</td>\n",
              "      <td>October</td>\n",
              "      <td>23</td>\n",
              "      <td>1</td>\n",
              "    </tr>\n",
              "    <tr>\n",
              "      <th>3</th>\n",
              "      <td>2019-08-17</td>\n",
              "      <td>7292</td>\n",
              "      <td>25</td>\n",
              "      <td>1</td>\n",
              "      <td>2019</td>\n",
              "      <td>8</td>\n",
              "      <td>August</td>\n",
              "      <td>17</td>\n",
              "      <td>5</td>\n",
              "    </tr>\n",
              "    <tr>\n",
              "      <th>4</th>\n",
              "      <td>2019-01-06</td>\n",
              "      <td>4344</td>\n",
              "      <td>25</td>\n",
              "      <td>3</td>\n",
              "      <td>2019</td>\n",
              "      <td>1</td>\n",
              "      <td>January</td>\n",
              "      <td>6</td>\n",
              "      <td>6</td>\n",
              "    </tr>\n",
              "  </tbody>\n",
              "</table>\n",
              "</div>"
            ],
            "text/plain": [
              "        date  product_id  city_id  orders  date_year  date_month_no  \\\n",
              "0 2019-12-10        5628       25       3       2019             12   \n",
              "1 2018-08-15        3646       14     157       2018              8   \n",
              "2 2018-10-23        1859       25       1       2018             10   \n",
              "3 2019-08-17        7292       25       1       2019              8   \n",
              "4 2019-01-06        4344       25       3       2019              1   \n",
              "\n",
              "  date_month_name  date_day  date_dow  \n",
              "0        December        10         1  \n",
              "1          August        15         2  \n",
              "2         October        23         1  \n",
              "3          August        17         5  \n",
              "4         January         6         6  "
            ]
          },
          "execution_count": 58,
          "metadata": {},
          "output_type": "execute_result"
        }
      ],
      "source": [
        "# day of week\n",
        "date['date_dow'] = date['date'].dt.dayofweek\n",
        "\n",
        "date.head()\n"
      ]
    },
    {
      "cell_type": "code",
      "execution_count": null,
      "metadata": {
        "id": "S_ylsetbjmBN",
        "outputId": "0b3d6698-74ff-4775-9414-59e866978448"
      },
      "outputs": [
        {
          "data": {
            "text/html": [
              "<div>\n",
              "<style scoped>\n",
              "    .dataframe tbody tr th:only-of-type {\n",
              "        vertical-align: middle;\n",
              "    }\n",
              "\n",
              "    .dataframe tbody tr th {\n",
              "        vertical-align: top;\n",
              "    }\n",
              "\n",
              "    .dataframe thead th {\n",
              "        text-align: right;\n",
              "    }\n",
              "</style>\n",
              "<table border=\"1\" class=\"dataframe\">\n",
              "  <thead>\n",
              "    <tr style=\"text-align: right;\">\n",
              "      <th></th>\n",
              "      <th>date</th>\n",
              "      <th>date_year</th>\n",
              "      <th>date_month_no</th>\n",
              "      <th>date_month_name</th>\n",
              "      <th>date_day</th>\n",
              "      <th>date_dow</th>\n",
              "      <th>date_dow_name</th>\n",
              "    </tr>\n",
              "  </thead>\n",
              "  <tbody>\n",
              "    <tr>\n",
              "      <th>0</th>\n",
              "      <td>2019-12-10</td>\n",
              "      <td>2019</td>\n",
              "      <td>12</td>\n",
              "      <td>December</td>\n",
              "      <td>10</td>\n",
              "      <td>1</td>\n",
              "      <td>Tuesday</td>\n",
              "    </tr>\n",
              "    <tr>\n",
              "      <th>1</th>\n",
              "      <td>2018-08-15</td>\n",
              "      <td>2018</td>\n",
              "      <td>8</td>\n",
              "      <td>August</td>\n",
              "      <td>15</td>\n",
              "      <td>2</td>\n",
              "      <td>Wednesday</td>\n",
              "    </tr>\n",
              "    <tr>\n",
              "      <th>2</th>\n",
              "      <td>2018-10-23</td>\n",
              "      <td>2018</td>\n",
              "      <td>10</td>\n",
              "      <td>October</td>\n",
              "      <td>23</td>\n",
              "      <td>1</td>\n",
              "      <td>Tuesday</td>\n",
              "    </tr>\n",
              "    <tr>\n",
              "      <th>3</th>\n",
              "      <td>2019-08-17</td>\n",
              "      <td>2019</td>\n",
              "      <td>8</td>\n",
              "      <td>August</td>\n",
              "      <td>17</td>\n",
              "      <td>5</td>\n",
              "      <td>Saturday</td>\n",
              "    </tr>\n",
              "    <tr>\n",
              "      <th>4</th>\n",
              "      <td>2019-01-06</td>\n",
              "      <td>2019</td>\n",
              "      <td>1</td>\n",
              "      <td>January</td>\n",
              "      <td>6</td>\n",
              "      <td>6</td>\n",
              "      <td>Sunday</td>\n",
              "    </tr>\n",
              "  </tbody>\n",
              "</table>\n",
              "</div>"
            ],
            "text/plain": [
              "        date  date_year  date_month_no date_month_name  date_day  date_dow  \\\n",
              "0 2019-12-10       2019             12        December        10         1   \n",
              "1 2018-08-15       2018              8          August        15         2   \n",
              "2 2018-10-23       2018             10         October        23         1   \n",
              "3 2019-08-17       2019              8          August        17         5   \n",
              "4 2019-01-06       2019              1         January         6         6   \n",
              "\n",
              "  date_dow_name  \n",
              "0       Tuesday  \n",
              "1     Wednesday  \n",
              "2       Tuesday  \n",
              "3      Saturday  \n",
              "4        Sunday  "
            ]
          },
          "execution_count": 59,
          "metadata": {},
          "output_type": "execute_result"
        }
      ],
      "source": [
        "# day of week - name\n",
        "\n",
        "date['date_dow_name'] = date['date'].dt.day_name()\n",
        "\n",
        "date.drop(columns=['product_id','city_id','orders']).head()"
      ]
    },
    {
      "cell_type": "code",
      "execution_count": null,
      "metadata": {
        "id": "KyS4l6L6jmBT",
        "outputId": "4aa8deb1-bab6-4aa3-d3c2-4cf864ba0f49"
      },
      "outputs": [
        {
          "data": {
            "text/html": [
              "<div>\n",
              "<style scoped>\n",
              "    .dataframe tbody tr th:only-of-type {\n",
              "        vertical-align: middle;\n",
              "    }\n",
              "\n",
              "    .dataframe tbody tr th {\n",
              "        vertical-align: top;\n",
              "    }\n",
              "\n",
              "    .dataframe thead th {\n",
              "        text-align: right;\n",
              "    }\n",
              "</style>\n",
              "<table border=\"1\" class=\"dataframe\">\n",
              "  <thead>\n",
              "    <tr style=\"text-align: right;\">\n",
              "      <th></th>\n",
              "      <th>date</th>\n",
              "      <th>date_year</th>\n",
              "      <th>date_month_no</th>\n",
              "      <th>date_month_name</th>\n",
              "      <th>date_day</th>\n",
              "      <th>date_dow</th>\n",
              "      <th>date_dow_name</th>\n",
              "      <th>date_is_weekend</th>\n",
              "    </tr>\n",
              "  </thead>\n",
              "  <tbody>\n",
              "    <tr>\n",
              "      <th>0</th>\n",
              "      <td>2019-12-10</td>\n",
              "      <td>2019</td>\n",
              "      <td>12</td>\n",
              "      <td>December</td>\n",
              "      <td>10</td>\n",
              "      <td>1</td>\n",
              "      <td>Tuesday</td>\n",
              "      <td>0</td>\n",
              "    </tr>\n",
              "    <tr>\n",
              "      <th>1</th>\n",
              "      <td>2018-08-15</td>\n",
              "      <td>2018</td>\n",
              "      <td>8</td>\n",
              "      <td>August</td>\n",
              "      <td>15</td>\n",
              "      <td>2</td>\n",
              "      <td>Wednesday</td>\n",
              "      <td>0</td>\n",
              "    </tr>\n",
              "    <tr>\n",
              "      <th>2</th>\n",
              "      <td>2018-10-23</td>\n",
              "      <td>2018</td>\n",
              "      <td>10</td>\n",
              "      <td>October</td>\n",
              "      <td>23</td>\n",
              "      <td>1</td>\n",
              "      <td>Tuesday</td>\n",
              "      <td>0</td>\n",
              "    </tr>\n",
              "    <tr>\n",
              "      <th>3</th>\n",
              "      <td>2019-08-17</td>\n",
              "      <td>2019</td>\n",
              "      <td>8</td>\n",
              "      <td>August</td>\n",
              "      <td>17</td>\n",
              "      <td>5</td>\n",
              "      <td>Saturday</td>\n",
              "      <td>1</td>\n",
              "    </tr>\n",
              "    <tr>\n",
              "      <th>4</th>\n",
              "      <td>2019-01-06</td>\n",
              "      <td>2019</td>\n",
              "      <td>1</td>\n",
              "      <td>January</td>\n",
              "      <td>6</td>\n",
              "      <td>6</td>\n",
              "      <td>Sunday</td>\n",
              "      <td>1</td>\n",
              "    </tr>\n",
              "  </tbody>\n",
              "</table>\n",
              "</div>"
            ],
            "text/plain": [
              "        date  date_year  date_month_no date_month_name  date_day  date_dow  \\\n",
              "0 2019-12-10       2019             12        December        10         1   \n",
              "1 2018-08-15       2018              8          August        15         2   \n",
              "2 2018-10-23       2018             10         October        23         1   \n",
              "3 2019-08-17       2019              8          August        17         5   \n",
              "4 2019-01-06       2019              1         January         6         6   \n",
              "\n",
              "  date_dow_name  date_is_weekend  \n",
              "0       Tuesday                0  \n",
              "1     Wednesday                0  \n",
              "2       Tuesday                0  \n",
              "3      Saturday                1  \n",
              "4        Sunday                1  "
            ]
          },
          "execution_count": 60,
          "metadata": {},
          "output_type": "execute_result"
        }
      ],
      "source": [
        "# is weekend?\n",
        "\n",
        "date['date_is_weekend'] = np.where(date['date_dow_name'].isin(['Sunday', 'Saturday']), 1,0)\n",
        "\n",
        "date.drop(columns=['product_id','city_id','orders']).head()"
      ]
    },
    {
      "cell_type": "markdown",
      "metadata": {
        "id": "X5_Y7h7RjmBV"
      },
      "source": [
        "#### Extract week of the year"
      ]
    },
    {
      "cell_type": "code",
      "execution_count": null,
      "metadata": {
        "id": "G_fTKE7-jmBW",
        "outputId": "2d5bc172-cba5-4ab7-e947-6f9c5ae41507"
      },
      "outputs": [
        {
          "data": {
            "text/html": [
              "<div>\n",
              "<style scoped>\n",
              "    .dataframe tbody tr th:only-of-type {\n",
              "        vertical-align: middle;\n",
              "    }\n",
              "\n",
              "    .dataframe tbody tr th {\n",
              "        vertical-align: top;\n",
              "    }\n",
              "\n",
              "    .dataframe thead th {\n",
              "        text-align: right;\n",
              "    }\n",
              "</style>\n",
              "<table border=\"1\" class=\"dataframe\">\n",
              "  <thead>\n",
              "    <tr style=\"text-align: right;\">\n",
              "      <th></th>\n",
              "      <th>date</th>\n",
              "      <th>date_year</th>\n",
              "      <th>date_month_no</th>\n",
              "      <th>date_month_name</th>\n",
              "      <th>date_day</th>\n",
              "      <th>date_dow</th>\n",
              "      <th>date_dow_name</th>\n",
              "      <th>date_is_weekend</th>\n",
              "      <th>date_week</th>\n",
              "    </tr>\n",
              "  </thead>\n",
              "  <tbody>\n",
              "    <tr>\n",
              "      <th>0</th>\n",
              "      <td>2019-12-10</td>\n",
              "      <td>2019</td>\n",
              "      <td>12</td>\n",
              "      <td>December</td>\n",
              "      <td>10</td>\n",
              "      <td>1</td>\n",
              "      <td>Tuesday</td>\n",
              "      <td>0</td>\n",
              "      <td>50</td>\n",
              "    </tr>\n",
              "    <tr>\n",
              "      <th>1</th>\n",
              "      <td>2018-08-15</td>\n",
              "      <td>2018</td>\n",
              "      <td>8</td>\n",
              "      <td>August</td>\n",
              "      <td>15</td>\n",
              "      <td>2</td>\n",
              "      <td>Wednesday</td>\n",
              "      <td>0</td>\n",
              "      <td>33</td>\n",
              "    </tr>\n",
              "    <tr>\n",
              "      <th>2</th>\n",
              "      <td>2018-10-23</td>\n",
              "      <td>2018</td>\n",
              "      <td>10</td>\n",
              "      <td>October</td>\n",
              "      <td>23</td>\n",
              "      <td>1</td>\n",
              "      <td>Tuesday</td>\n",
              "      <td>0</td>\n",
              "      <td>43</td>\n",
              "    </tr>\n",
              "    <tr>\n",
              "      <th>3</th>\n",
              "      <td>2019-08-17</td>\n",
              "      <td>2019</td>\n",
              "      <td>8</td>\n",
              "      <td>August</td>\n",
              "      <td>17</td>\n",
              "      <td>5</td>\n",
              "      <td>Saturday</td>\n",
              "      <td>1</td>\n",
              "      <td>33</td>\n",
              "    </tr>\n",
              "    <tr>\n",
              "      <th>4</th>\n",
              "      <td>2019-01-06</td>\n",
              "      <td>2019</td>\n",
              "      <td>1</td>\n",
              "      <td>January</td>\n",
              "      <td>6</td>\n",
              "      <td>6</td>\n",
              "      <td>Sunday</td>\n",
              "      <td>1</td>\n",
              "      <td>1</td>\n",
              "    </tr>\n",
              "  </tbody>\n",
              "</table>\n",
              "</div>"
            ],
            "text/plain": [
              "        date  date_year  date_month_no date_month_name  date_day  date_dow  \\\n",
              "0 2019-12-10       2019             12        December        10         1   \n",
              "1 2018-08-15       2018              8          August        15         2   \n",
              "2 2018-10-23       2018             10         October        23         1   \n",
              "3 2019-08-17       2019              8          August        17         5   \n",
              "4 2019-01-06       2019              1         January         6         6   \n",
              "\n",
              "  date_dow_name  date_is_weekend  date_week  \n",
              "0       Tuesday                0         50  \n",
              "1     Wednesday                0         33  \n",
              "2       Tuesday                0         43  \n",
              "3      Saturday                1         33  \n",
              "4        Sunday                1          1  "
            ]
          },
          "execution_count": 61,
          "metadata": {},
          "output_type": "execute_result"
        }
      ],
      "source": [
        "date['date_week'] = date['date'].dt.week\n",
        "\n",
        "date.drop(columns=['product_id','city_id','orders']).head()"
      ]
    },
    {
      "cell_type": "markdown",
      "metadata": {
        "id": "HS5qYFWcjmBY"
      },
      "source": [
        "#### Extract Quarter"
      ]
    },
    {
      "cell_type": "code",
      "execution_count": null,
      "metadata": {
        "id": "WMLCvi05jmBZ",
        "outputId": "a571bf22-d968-4c78-929b-93830c4d0634"
      },
      "outputs": [
        {
          "data": {
            "text/html": [
              "<div>\n",
              "<style scoped>\n",
              "    .dataframe tbody tr th:only-of-type {\n",
              "        vertical-align: middle;\n",
              "    }\n",
              "\n",
              "    .dataframe tbody tr th {\n",
              "        vertical-align: top;\n",
              "    }\n",
              "\n",
              "    .dataframe thead th {\n",
              "        text-align: right;\n",
              "    }\n",
              "</style>\n",
              "<table border=\"1\" class=\"dataframe\">\n",
              "  <thead>\n",
              "    <tr style=\"text-align: right;\">\n",
              "      <th></th>\n",
              "      <th>date</th>\n",
              "      <th>date_year</th>\n",
              "      <th>date_month_no</th>\n",
              "      <th>date_month_name</th>\n",
              "      <th>date_day</th>\n",
              "      <th>date_dow</th>\n",
              "      <th>date_dow_name</th>\n",
              "      <th>date_is_weekend</th>\n",
              "      <th>date_week</th>\n",
              "      <th>quarter</th>\n",
              "    </tr>\n",
              "  </thead>\n",
              "  <tbody>\n",
              "    <tr>\n",
              "      <th>0</th>\n",
              "      <td>2019-12-10</td>\n",
              "      <td>2019</td>\n",
              "      <td>12</td>\n",
              "      <td>December</td>\n",
              "      <td>10</td>\n",
              "      <td>1</td>\n",
              "      <td>Tuesday</td>\n",
              "      <td>0</td>\n",
              "      <td>50</td>\n",
              "      <td>4</td>\n",
              "    </tr>\n",
              "    <tr>\n",
              "      <th>1</th>\n",
              "      <td>2018-08-15</td>\n",
              "      <td>2018</td>\n",
              "      <td>8</td>\n",
              "      <td>August</td>\n",
              "      <td>15</td>\n",
              "      <td>2</td>\n",
              "      <td>Wednesday</td>\n",
              "      <td>0</td>\n",
              "      <td>33</td>\n",
              "      <td>3</td>\n",
              "    </tr>\n",
              "    <tr>\n",
              "      <th>2</th>\n",
              "      <td>2018-10-23</td>\n",
              "      <td>2018</td>\n",
              "      <td>10</td>\n",
              "      <td>October</td>\n",
              "      <td>23</td>\n",
              "      <td>1</td>\n",
              "      <td>Tuesday</td>\n",
              "      <td>0</td>\n",
              "      <td>43</td>\n",
              "      <td>4</td>\n",
              "    </tr>\n",
              "    <tr>\n",
              "      <th>3</th>\n",
              "      <td>2019-08-17</td>\n",
              "      <td>2019</td>\n",
              "      <td>8</td>\n",
              "      <td>August</td>\n",
              "      <td>17</td>\n",
              "      <td>5</td>\n",
              "      <td>Saturday</td>\n",
              "      <td>1</td>\n",
              "      <td>33</td>\n",
              "      <td>3</td>\n",
              "    </tr>\n",
              "    <tr>\n",
              "      <th>4</th>\n",
              "      <td>2019-01-06</td>\n",
              "      <td>2019</td>\n",
              "      <td>1</td>\n",
              "      <td>January</td>\n",
              "      <td>6</td>\n",
              "      <td>6</td>\n",
              "      <td>Sunday</td>\n",
              "      <td>1</td>\n",
              "      <td>1</td>\n",
              "      <td>1</td>\n",
              "    </tr>\n",
              "  </tbody>\n",
              "</table>\n",
              "</div>"
            ],
            "text/plain": [
              "        date  date_year  date_month_no date_month_name  date_day  date_dow  \\\n",
              "0 2019-12-10       2019             12        December        10         1   \n",
              "1 2018-08-15       2018              8          August        15         2   \n",
              "2 2018-10-23       2018             10         October        23         1   \n",
              "3 2019-08-17       2019              8          August        17         5   \n",
              "4 2019-01-06       2019              1         January         6         6   \n",
              "\n",
              "  date_dow_name  date_is_weekend  date_week  quarter  \n",
              "0       Tuesday                0         50        4  \n",
              "1     Wednesday                0         33        3  \n",
              "2       Tuesday                0         43        4  \n",
              "3      Saturday                1         33        3  \n",
              "4        Sunday                1          1        1  "
            ]
          },
          "execution_count": 62,
          "metadata": {},
          "output_type": "execute_result"
        }
      ],
      "source": [
        "date['quarter'] = date['date'].dt.quarter\n",
        "\n",
        "date.drop(columns=['product_id','city_id','orders']).head()"
      ]
    },
    {
      "cell_type": "markdown",
      "metadata": {
        "id": "xc-_fJt7jmBa"
      },
      "source": [
        "#### Extract Semester"
      ]
    },
    {
      "cell_type": "code",
      "execution_count": null,
      "metadata": {
        "id": "oUFIhMGQjmBb",
        "outputId": "176b91a9-37d4-40ed-bcf4-7650bab86fa5"
      },
      "outputs": [
        {
          "data": {
            "text/html": [
              "<div>\n",
              "<style scoped>\n",
              "    .dataframe tbody tr th:only-of-type {\n",
              "        vertical-align: middle;\n",
              "    }\n",
              "\n",
              "    .dataframe tbody tr th {\n",
              "        vertical-align: top;\n",
              "    }\n",
              "\n",
              "    .dataframe thead th {\n",
              "        text-align: right;\n",
              "    }\n",
              "</style>\n",
              "<table border=\"1\" class=\"dataframe\">\n",
              "  <thead>\n",
              "    <tr style=\"text-align: right;\">\n",
              "      <th></th>\n",
              "      <th>date</th>\n",
              "      <th>date_year</th>\n",
              "      <th>date_month_no</th>\n",
              "      <th>date_month_name</th>\n",
              "      <th>date_day</th>\n",
              "      <th>date_dow</th>\n",
              "      <th>date_dow_name</th>\n",
              "      <th>date_is_weekend</th>\n",
              "      <th>date_week</th>\n",
              "      <th>quarter</th>\n",
              "      <th>semester</th>\n",
              "    </tr>\n",
              "  </thead>\n",
              "  <tbody>\n",
              "    <tr>\n",
              "      <th>0</th>\n",
              "      <td>2019-12-10</td>\n",
              "      <td>2019</td>\n",
              "      <td>12</td>\n",
              "      <td>December</td>\n",
              "      <td>10</td>\n",
              "      <td>1</td>\n",
              "      <td>Tuesday</td>\n",
              "      <td>0</td>\n",
              "      <td>50</td>\n",
              "      <td>4</td>\n",
              "      <td>2</td>\n",
              "    </tr>\n",
              "    <tr>\n",
              "      <th>1</th>\n",
              "      <td>2018-08-15</td>\n",
              "      <td>2018</td>\n",
              "      <td>8</td>\n",
              "      <td>August</td>\n",
              "      <td>15</td>\n",
              "      <td>2</td>\n",
              "      <td>Wednesday</td>\n",
              "      <td>0</td>\n",
              "      <td>33</td>\n",
              "      <td>3</td>\n",
              "      <td>2</td>\n",
              "    </tr>\n",
              "    <tr>\n",
              "      <th>2</th>\n",
              "      <td>2018-10-23</td>\n",
              "      <td>2018</td>\n",
              "      <td>10</td>\n",
              "      <td>October</td>\n",
              "      <td>23</td>\n",
              "      <td>1</td>\n",
              "      <td>Tuesday</td>\n",
              "      <td>0</td>\n",
              "      <td>43</td>\n",
              "      <td>4</td>\n",
              "      <td>2</td>\n",
              "    </tr>\n",
              "    <tr>\n",
              "      <th>3</th>\n",
              "      <td>2019-08-17</td>\n",
              "      <td>2019</td>\n",
              "      <td>8</td>\n",
              "      <td>August</td>\n",
              "      <td>17</td>\n",
              "      <td>5</td>\n",
              "      <td>Saturday</td>\n",
              "      <td>1</td>\n",
              "      <td>33</td>\n",
              "      <td>3</td>\n",
              "      <td>2</td>\n",
              "    </tr>\n",
              "    <tr>\n",
              "      <th>4</th>\n",
              "      <td>2019-01-06</td>\n",
              "      <td>2019</td>\n",
              "      <td>1</td>\n",
              "      <td>January</td>\n",
              "      <td>6</td>\n",
              "      <td>6</td>\n",
              "      <td>Sunday</td>\n",
              "      <td>1</td>\n",
              "      <td>1</td>\n",
              "      <td>1</td>\n",
              "      <td>1</td>\n",
              "    </tr>\n",
              "  </tbody>\n",
              "</table>\n",
              "</div>"
            ],
            "text/plain": [
              "        date  date_year  date_month_no date_month_name  date_day  date_dow  \\\n",
              "0 2019-12-10       2019             12        December        10         1   \n",
              "1 2018-08-15       2018              8          August        15         2   \n",
              "2 2018-10-23       2018             10         October        23         1   \n",
              "3 2019-08-17       2019              8          August        17         5   \n",
              "4 2019-01-06       2019              1         January         6         6   \n",
              "\n",
              "  date_dow_name  date_is_weekend  date_week  quarter  semester  \n",
              "0       Tuesday                0         50        4         2  \n",
              "1     Wednesday                0         33        3         2  \n",
              "2       Tuesday                0         43        4         2  \n",
              "3      Saturday                1         33        3         2  \n",
              "4        Sunday                1          1        1         1  "
            ]
          },
          "execution_count": 63,
          "metadata": {},
          "output_type": "execute_result"
        }
      ],
      "source": [
        "date['semester'] = np.where(date['quarter'].isin([1,2]), 1, 2)\n",
        "\n",
        "date.drop(columns=['product_id','city_id','orders']).head()"
      ]
    },
    {
      "cell_type": "markdown",
      "metadata": {
        "id": "h34rf4YvjmBc"
      },
      "source": [
        "#### Extract Time elapsed between dates"
      ]
    },
    {
      "cell_type": "code",
      "execution_count": null,
      "metadata": {
        "id": "dYBKMmNcjmBe",
        "outputId": "14bed8ef-75e6-436e-d70a-5d581eae3300"
      },
      "outputs": [
        {
          "data": {
            "text/plain": [
              "datetime.datetime(2021, 4, 21, 16, 2, 16, 791379)"
            ]
          },
          "execution_count": 26,
          "metadata": {},
          "output_type": "execute_result"
        }
      ],
      "source": [
        "import datetime\n",
        "\n",
        "today = datetime.datetime.today()\n",
        "\n",
        "today"
      ]
    },
    {
      "cell_type": "code",
      "execution_count": null,
      "metadata": {
        "id": "Fyi69qTVjmBf",
        "outputId": "5857f63a-77ee-4e91-ab6b-b24cccbf5a9f"
      },
      "outputs": [
        {
          "data": {
            "text/plain": [
              "0     498 days 16:02:16.791379\n",
              "1     980 days 16:02:16.791379\n",
              "2     911 days 16:02:16.791379\n",
              "3     613 days 16:02:16.791379\n",
              "4     836 days 16:02:16.791379\n",
              "                ...           \n",
              "995   926 days 16:02:16.791379\n",
              "996   867 days 16:02:16.791379\n",
              "997   715 days 16:02:16.791379\n",
              "998   780 days 16:02:16.791379\n",
              "999   554 days 16:02:16.791379\n",
              "Name: date, Length: 1000, dtype: timedelta64[ns]"
            ]
          },
          "execution_count": 64,
          "metadata": {},
          "output_type": "execute_result"
        }
      ],
      "source": [
        "today - date['date']"
      ]
    },
    {
      "cell_type": "code",
      "execution_count": null,
      "metadata": {
        "id": "5I7hYpV9jmBg",
        "outputId": "ea68e6f3-3652-4f0f-bd65-d2f312f02d6c"
      },
      "outputs": [
        {
          "data": {
            "text/plain": [
              "0      498\n",
              "1      980\n",
              "2      911\n",
              "3      613\n",
              "4      836\n",
              "      ... \n",
              "995    926\n",
              "996    867\n",
              "997    715\n",
              "998    780\n",
              "999    554\n",
              "Name: date, Length: 1000, dtype: int64"
            ]
          },
          "execution_count": 65,
          "metadata": {},
          "output_type": "execute_result"
        }
      ],
      "source": [
        "(today - date['date']).dt.days"
      ]
    },
    {
      "cell_type": "code",
      "execution_count": null,
      "metadata": {
        "id": "w-CmClRTjmBh",
        "outputId": "4c57c679-6215-4248-b671-247fbf266168"
      },
      "outputs": [
        {
          "data": {
            "text/plain": [
              "0      16.0\n",
              "1      32.0\n",
              "2      30.0\n",
              "3      20.0\n",
              "4      27.0\n",
              "       ... \n",
              "995    30.0\n",
              "996    29.0\n",
              "997    24.0\n",
              "998    26.0\n",
              "999    18.0\n",
              "Name: date, Length: 1000, dtype: float64"
            ]
          },
          "execution_count": 66,
          "metadata": {},
          "output_type": "execute_result"
        }
      ],
      "source": [
        "# Months passed\n",
        "\n",
        "np.round((today -date['date']) / np.timedelta64(1, 'M'),0)"
      ]
    },
    {
      "cell_type": "code",
      "execution_count": null,
      "metadata": {
        "id": "o6l_1aqPjmBi",
        "outputId": "58c3512a-9d8d-4ea0-8ac0-4cd1a5c0f5cb"
      },
      "outputs": [
        {
          "name": "stdout",
          "output_type": "stream",
          "text": [
            "<class 'pandas.core.frame.DataFrame'>\n",
            "RangeIndex: 1000 entries, 0 to 999\n",
            "Data columns (total 2 columns):\n",
            " #   Column  Non-Null Count  Dtype \n",
            "---  ------  --------------  ----- \n",
            " 0   date    1000 non-null   object\n",
            " 1   msg     1000 non-null   object\n",
            "dtypes: object(2)\n",
            "memory usage: 15.8+ KB\n"
          ]
        }
      ],
      "source": [
        "time.info()"
      ]
    },
    {
      "cell_type": "code",
      "execution_count": null,
      "metadata": {
        "id": "CirESmS-jmBk"
      },
      "outputs": [],
      "source": [
        "# Converting to datetime datatype\n",
        "time['date'] = pd.to_datetime(time['date'])"
      ]
    },
    {
      "cell_type": "code",
      "execution_count": null,
      "metadata": {
        "id": "NsGILh0fjmBm",
        "outputId": "22cceb29-131b-4f29-aa69-9fe1b31a2542"
      },
      "outputs": [
        {
          "name": "stdout",
          "output_type": "stream",
          "text": [
            "<class 'pandas.core.frame.DataFrame'>\n",
            "RangeIndex: 1000 entries, 0 to 999\n",
            "Data columns (total 2 columns):\n",
            " #   Column  Non-Null Count  Dtype         \n",
            "---  ------  --------------  -----         \n",
            " 0   date    1000 non-null   datetime64[ns]\n",
            " 1   msg     1000 non-null   object        \n",
            "dtypes: datetime64[ns](1), object(1)\n",
            "memory usage: 15.8+ KB\n"
          ]
        }
      ],
      "source": [
        "time.info()"
      ]
    },
    {
      "cell_type": "code",
      "execution_count": null,
      "metadata": {
        "id": "zxi8eKC1jmBn",
        "outputId": "f94f0f42-324d-4d1b-924e-785370d00f49"
      },
      "outputs": [
        {
          "data": {
            "text/html": [
              "<div>\n",
              "<style scoped>\n",
              "    .dataframe tbody tr th:only-of-type {\n",
              "        vertical-align: middle;\n",
              "    }\n",
              "\n",
              "    .dataframe tbody tr th {\n",
              "        vertical-align: top;\n",
              "    }\n",
              "\n",
              "    .dataframe thead th {\n",
              "        text-align: right;\n",
              "    }\n",
              "</style>\n",
              "<table border=\"1\" class=\"dataframe\">\n",
              "  <thead>\n",
              "    <tr style=\"text-align: right;\">\n",
              "      <th></th>\n",
              "      <th>date</th>\n",
              "      <th>msg</th>\n",
              "      <th>hour</th>\n",
              "      <th>min</th>\n",
              "      <th>sec</th>\n",
              "    </tr>\n",
              "  </thead>\n",
              "  <tbody>\n",
              "    <tr>\n",
              "      <th>0</th>\n",
              "      <td>2013-12-15 00:50:00</td>\n",
              "      <td>ищу на сегодня мужика 37</td>\n",
              "      <td>0</td>\n",
              "      <td>50</td>\n",
              "      <td>0</td>\n",
              "    </tr>\n",
              "    <tr>\n",
              "      <th>1</th>\n",
              "      <td>2014-04-29 23:40:00</td>\n",
              "      <td>ПАРЕНЬ БИ ИЩЕТ ДРУГА СЕЙЧАС!! СМС ММС 0955532826</td>\n",
              "      <td>23</td>\n",
              "      <td>40</td>\n",
              "      <td>0</td>\n",
              "    </tr>\n",
              "    <tr>\n",
              "      <th>2</th>\n",
              "      <td>2012-12-30 00:21:00</td>\n",
              "      <td>Днепр.м 43 позн.с д/ж *.о  067.16.34.576</td>\n",
              "      <td>0</td>\n",
              "      <td>21</td>\n",
              "      <td>0</td>\n",
              "    </tr>\n",
              "    <tr>\n",
              "      <th>3</th>\n",
              "      <td>2014-11-28 00:31:00</td>\n",
              "      <td>КИЕВ ИЩУ Д/Ж ДО 45 МНЕ СЕЙЧАС СКУЧНО 093 629 9...</td>\n",
              "      <td>0</td>\n",
              "      <td>31</td>\n",
              "      <td>0</td>\n",
              "    </tr>\n",
              "    <tr>\n",
              "      <th>4</th>\n",
              "      <td>2013-10-26 23:11:00</td>\n",
              "      <td>Зая я тебя никогда не обижу  люблю тебя!)  Даше</td>\n",
              "      <td>23</td>\n",
              "      <td>11</td>\n",
              "      <td>0</td>\n",
              "    </tr>\n",
              "  </tbody>\n",
              "</table>\n",
              "</div>"
            ],
            "text/plain": [
              "                 date                                                msg  \\\n",
              "0 2013-12-15 00:50:00                           ищу на сегодня мужика 37   \n",
              "1 2014-04-29 23:40:00   ПАРЕНЬ БИ ИЩЕТ ДРУГА СЕЙЧАС!! СМС ММС 0955532826   \n",
              "2 2012-12-30 00:21:00           Днепр.м 43 позн.с д/ж *.о  067.16.34.576   \n",
              "3 2014-11-28 00:31:00  КИЕВ ИЩУ Д/Ж ДО 45 МНЕ СЕЙЧАС СКУЧНО 093 629 9...   \n",
              "4 2013-10-26 23:11:00    Зая я тебя никогда не обижу  люблю тебя!)  Даше   \n",
              "\n",
              "   hour  min  sec  \n",
              "0     0   50    0  \n",
              "1    23   40    0  \n",
              "2     0   21    0  \n",
              "3     0   31    0  \n",
              "4    23   11    0  "
            ]
          },
          "execution_count": 70,
          "metadata": {},
          "output_type": "execute_result"
        }
      ],
      "source": [
        "time['hour'] = time['date'].dt.hour\n",
        "time['min'] = time['date'].dt.minute\n",
        "time['sec'] = time['date'].dt.second\n",
        "\n",
        "time.head()"
      ]
    },
    {
      "cell_type": "markdown",
      "metadata": {
        "id": "SD4g0WHJjmBp"
      },
      "source": [
        "#### Extract Time part"
      ]
    },
    {
      "cell_type": "code",
      "execution_count": null,
      "metadata": {
        "id": "UX8OYysvjmBq",
        "outputId": "194f2d1e-17b0-46f1-dffb-be22391d53b2"
      },
      "outputs": [
        {
          "data": {
            "text/html": [
              "<div>\n",
              "<style scoped>\n",
              "    .dataframe tbody tr th:only-of-type {\n",
              "        vertical-align: middle;\n",
              "    }\n",
              "\n",
              "    .dataframe tbody tr th {\n",
              "        vertical-align: top;\n",
              "    }\n",
              "\n",
              "    .dataframe thead th {\n",
              "        text-align: right;\n",
              "    }\n",
              "</style>\n",
              "<table border=\"1\" class=\"dataframe\">\n",
              "  <thead>\n",
              "    <tr style=\"text-align: right;\">\n",
              "      <th></th>\n",
              "      <th>date</th>\n",
              "      <th>msg</th>\n",
              "      <th>hour</th>\n",
              "      <th>min</th>\n",
              "      <th>sec</th>\n",
              "      <th>time</th>\n",
              "    </tr>\n",
              "  </thead>\n",
              "  <tbody>\n",
              "    <tr>\n",
              "      <th>0</th>\n",
              "      <td>2013-12-15 00:50:00</td>\n",
              "      <td>ищу на сегодня мужика 37</td>\n",
              "      <td>0</td>\n",
              "      <td>50</td>\n",
              "      <td>0</td>\n",
              "      <td>00:50:00</td>\n",
              "    </tr>\n",
              "    <tr>\n",
              "      <th>1</th>\n",
              "      <td>2014-04-29 23:40:00</td>\n",
              "      <td>ПАРЕНЬ БИ ИЩЕТ ДРУГА СЕЙЧАС!! СМС ММС 0955532826</td>\n",
              "      <td>23</td>\n",
              "      <td>40</td>\n",
              "      <td>0</td>\n",
              "      <td>23:40:00</td>\n",
              "    </tr>\n",
              "    <tr>\n",
              "      <th>2</th>\n",
              "      <td>2012-12-30 00:21:00</td>\n",
              "      <td>Днепр.м 43 позн.с д/ж *.о  067.16.34.576</td>\n",
              "      <td>0</td>\n",
              "      <td>21</td>\n",
              "      <td>0</td>\n",
              "      <td>00:21:00</td>\n",
              "    </tr>\n",
              "    <tr>\n",
              "      <th>3</th>\n",
              "      <td>2014-11-28 00:31:00</td>\n",
              "      <td>КИЕВ ИЩУ Д/Ж ДО 45 МНЕ СЕЙЧАС СКУЧНО 093 629 9...</td>\n",
              "      <td>0</td>\n",
              "      <td>31</td>\n",
              "      <td>0</td>\n",
              "      <td>00:31:00</td>\n",
              "    </tr>\n",
              "    <tr>\n",
              "      <th>4</th>\n",
              "      <td>2013-10-26 23:11:00</td>\n",
              "      <td>Зая я тебя никогда не обижу  люблю тебя!)  Даше</td>\n",
              "      <td>23</td>\n",
              "      <td>11</td>\n",
              "      <td>0</td>\n",
              "      <td>23:11:00</td>\n",
              "    </tr>\n",
              "  </tbody>\n",
              "</table>\n",
              "</div>"
            ],
            "text/plain": [
              "                 date                                                msg  \\\n",
              "0 2013-12-15 00:50:00                           ищу на сегодня мужика 37   \n",
              "1 2014-04-29 23:40:00   ПАРЕНЬ БИ ИЩЕТ ДРУГА СЕЙЧАС!! СМС ММС 0955532826   \n",
              "2 2012-12-30 00:21:00           Днепр.м 43 позн.с д/ж *.о  067.16.34.576   \n",
              "3 2014-11-28 00:31:00  КИЕВ ИЩУ Д/Ж ДО 45 МНЕ СЕЙЧАС СКУЧНО 093 629 9...   \n",
              "4 2013-10-26 23:11:00    Зая я тебя никогда не обижу  люблю тебя!)  Даше   \n",
              "\n",
              "   hour  min  sec      time  \n",
              "0     0   50    0  00:50:00  \n",
              "1    23   40    0  23:40:00  \n",
              "2     0   21    0  00:21:00  \n",
              "3     0   31    0  00:31:00  \n",
              "4    23   11    0  23:11:00  "
            ]
          },
          "execution_count": 71,
          "metadata": {},
          "output_type": "execute_result"
        }
      ],
      "source": [
        "time['time'] = time['date'].dt.time\n",
        "\n",
        "time.head()"
      ]
    },
    {
      "cell_type": "markdown",
      "metadata": {
        "id": "7bjrUBb9jmBs"
      },
      "source": [
        "#### Time difference"
      ]
    },
    {
      "cell_type": "code",
      "execution_count": null,
      "metadata": {
        "id": "_7d0mUkejmBt",
        "outputId": "e6023ade-1b24-4408-d236-c4b40586e69d"
      },
      "outputs": [
        {
          "data": {
            "text/plain": [
              "0     2684 days 15:12:16.791379\n",
              "1     2548 days 16:22:16.791379\n",
              "2     3034 days 15:41:16.791379\n",
              "3     2336 days 15:31:16.791379\n",
              "4     2733 days 16:51:16.791379\n",
              "                 ...           \n",
              "995   3323 days 15:12:16.791379\n",
              "996   2644 days 16:48:16.791379\n",
              "997   3109 days 16:25:16.791379\n",
              "998   3225 days 16:28:16.791379\n",
              "999   2497 days 16:37:16.791379\n",
              "Name: date, Length: 1000, dtype: timedelta64[ns]"
            ]
          },
          "execution_count": 72,
          "metadata": {},
          "output_type": "execute_result"
        }
      ],
      "source": [
        "today - time['date']"
      ]
    },
    {
      "cell_type": "code",
      "execution_count": null,
      "metadata": {
        "id": "EtvbEpKsjmBv",
        "outputId": "8826e7fe-cae5-41de-b253-242b51ef8b94"
      },
      "outputs": [
        {
          "data": {
            "text/plain": [
              "0      2.319523e+08\n",
              "1      2.202061e+08\n",
              "2      2.621941e+08\n",
              "3      2.018863e+08\n",
              "4      2.361919e+08\n",
              "           ...     \n",
              "995    2.871619e+08\n",
              "996    2.285021e+08\n",
              "997    2.686767e+08\n",
              "998    2.786993e+08\n",
              "999    2.158006e+08\n",
              "Name: date, Length: 1000, dtype: float64"
            ]
          },
          "execution_count": 73,
          "metadata": {},
          "output_type": "execute_result"
        }
      ],
      "source": [
        "# in seconds\n",
        "\n",
        "(today - time['date'])/np.timedelta64(1,'s')"
      ]
    },
    {
      "cell_type": "code",
      "execution_count": null,
      "metadata": {
        "id": "EJZRmBoGjmCC",
        "outputId": "8fe35a0e-5b7d-40bc-c737-908c8efd76fb"
      },
      "outputs": [
        {
          "data": {
            "text/plain": [
              "0      3.865872e+06\n",
              "1      3.670102e+06\n",
              "2      4.369901e+06\n",
              "3      3.364771e+06\n",
              "4      3.936531e+06\n",
              "           ...     \n",
              "995    4.786032e+06\n",
              "996    3.808368e+06\n",
              "997    4.477945e+06\n",
              "998    4.644988e+06\n",
              "999    3.596677e+06\n",
              "Name: date, Length: 1000, dtype: float64"
            ]
          },
          "execution_count": 74,
          "metadata": {},
          "output_type": "execute_result"
        }
      ],
      "source": [
        "# in minutes\n",
        "\n",
        "(today - time['date'])/np.timedelta64(1,'m')"
      ]
    },
    {
      "cell_type": "code",
      "execution_count": null,
      "metadata": {
        "id": "9NLKZmQ0jmCD",
        "outputId": "b6f1aee7-7d5e-4995-a533-1438fee55811"
      },
      "outputs": [
        {
          "data": {
            "text/plain": [
              "0      64431.204664\n",
              "1      61168.371331\n",
              "2      72831.687998\n",
              "3      56079.521331\n",
              "4      65608.854664\n",
              "           ...     \n",
              "995    79767.204664\n",
              "996    63472.804664\n",
              "997    74632.421331\n",
              "998    77416.471331\n",
              "999    59944.621331\n",
              "Name: date, Length: 1000, dtype: float64"
            ]
          },
          "execution_count": 75,
          "metadata": {},
          "output_type": "execute_result"
        }
      ],
      "source": [
        "# in hours\n",
        "\n",
        "(today - time['date'])/np.timedelta64(1,'h')"
      ]
    },
    {
      "cell_type": "code",
      "execution_count": null,
      "metadata": {
        "id": "D7bchcZkjmCE"
      },
      "outputs": [],
      "source": []
    }
  ],
  "metadata": {
    "kernelspec": {
      "display_name": "Python 3",
      "language": "python",
      "name": "python3"
    },
    "language_info": {
      "codemirror_mode": {
        "name": "ipython",
        "version": 3
      },
      "file_extension": ".py",
      "mimetype": "text/x-python",
      "name": "python",
      "nbconvert_exporter": "python",
      "pygments_lexer": "ipython3",
      "version": "3.8.3"
    },
    "colab": {
      "provenance": [],
      "include_colab_link": true
    }
  },
  "nbformat": 4,
  "nbformat_minor": 0
}
